{
 "cells": [
  {
   "cell_type": "code",
   "execution_count": 2,
   "metadata": {},
   "outputs": [],
   "source": [
    "from datetime import datetime, timedelta"
   ]
  },
  {
   "cell_type": "code",
   "execution_count": 3,
   "metadata": {},
   "outputs": [],
   "source": [
    "def get_past_two_weeks_dates():\n",
    "\n",
    "    today = datetime.now()\n",
    "    date_list = [(today - timedelta(days=i)).strftime(\"%d/%m/%y\") for i in range(14)]\n",
    "    return date_list"
   ]
  },
  {
   "cell_type": "code",
   "execution_count": 7,
   "metadata": {},
   "outputs": [],
   "source": [
    "def data_download():\n",
    "    row_storage = []\n",
    "    with open(r'C:\\SZvsWorkspace\\PersonalProjects\\HabitTracker\\InfoKeeper.txt','r') as file:\n",
    "        for row in file:\n",
    "            row = row.replace('\\n','')\n",
    "            row_storage.append(row)\n",
    "    return row_storage"
   ]
  },
  {
   "cell_type": "code",
   "execution_count": 8,
   "metadata": {},
   "outputs": [
    {
     "name": "stdout",
     "output_type": "stream",
     "text": [
      "['{}', \"{'Date': ['Monday', '07/10/24'], 'MR': 1, 'NR': 0, 'NY': 1}\"]\n"
     ]
    }
   ],
   "source": [
    "print(data_download())"
   ]
  }
 ],
 "metadata": {
  "kernelspec": {
   "display_name": "Python 3",
   "language": "python",
   "name": "python3"
  },
  "language_info": {
   "codemirror_mode": {
    "name": "ipython",
    "version": 3
   },
   "file_extension": ".py",
   "mimetype": "text/x-python",
   "name": "python",
   "nbconvert_exporter": "python",
   "pygments_lexer": "ipython3",
   "version": "3.12.0"
  }
 },
 "nbformat": 4,
 "nbformat_minor": 2
}
