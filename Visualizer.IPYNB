{
 "cells": [
  {
   "cell_type": "code",
   "execution_count": null,
   "metadata": {},
   "outputs": [],
   "source": [
    "from datetime import datetime, timedelta"
   ]
  },
  {
   "cell_type": "code",
   "execution_count": null,
   "metadata": {},
   "outputs": [],
   "source": [
    "def get_past_two_weeks_dates():\n",
    "\n",
    "    today = datetime.now()\n",
    "    date_list = [(today - timedelta(days=i)).strftime(\"%d/%m/%y\") for i in range(14)]\n",
    "    return date_list"
   ]
  },
  {
   "cell_type": "code",
   "execution_count": null,
   "metadata": {},
   "outputs": [],
   "source": [
    "def data_download():\n",
    "    row_storage = []\n",
    "    with open(r'C:\\SZvsWorkspace\\PersonalProjects\\HabitTracker\\InfoKeeper.txt','r') as file:\n",
    "        for row in file:\n",
    "            row_storage.append(row)"
   ]
  },
  {
   "cell_type": "code",
   "execution_count": null,
   "metadata": {},
   "outputs": [],
   "source": []
  }
 ],
 "metadata": {
  "language_info": {
   "name": "python"
  }
 },
 "nbformat": 4,
 "nbformat_minor": 2
}
