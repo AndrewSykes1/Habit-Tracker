{
 "cells": [
  {
   "cell_type": "code",
   "execution_count": 2,
   "metadata": {},
   "outputs": [],
   "source": [
    "from datetime import datetime"
   ]
  },
  {
   "cell_type": "code",
   "execution_count": 3,
   "metadata": {},
   "outputs": [],
   "source": [
    "def current_download():\n",
    "    with open(r'C:\\SZvsWorkspace\\PersonalProjects\\HabitTracker\\CurDay.txt', 'r') as file:\n",
    "        habits = {}\n",
    "        temp = 0\n",
    "        for row in file:\n",
    "            row = row.replace('\\n', '').replace(' ','')\n",
    "            if temp == 0:\n",
    "                day_name, date = row.split(':')\n",
    "                habits['Date'] = [day_name, date]\n",
    "                temp = 1\n",
    "            else:\n",
    "                part = row.split(':')\n",
    "                if part[-1] == 'x':\n",
    "                    habits[part[0]] = 1\n",
    "                else:\n",
    "                    habits[part[0]] = 0\n",
    "    return habits"
   ]
  },
  {
   "cell_type": "code",
   "execution_count": 4,
   "metadata": {},
   "outputs": [],
   "source": [
    "def info_keep_append():\n",
    "    with open(r'C:\\SZvsWorkspace\\PersonalProjects\\HabitTracker\\InfoKeeper.txt', 'a') as file:\n",
    "        file.write(f'{str(current_download())}\\n')"
   ]
  },
  {
   "cell_type": "code",
   "execution_count": 5,
   "metadata": {},
   "outputs": [],
   "source": [
    "def current_creation(habits_tracked):\n",
    "    \n",
    "    current_date = datetime.now()\n",
    "    formatted_date = current_date.strftime(\"%d/%m/%y\")\n",
    "    day_name = current_date.strftime(\"%A\")\n",
    "\n",
    "    with open(r'C:\\SZvsWorkspace\\PersonalProjects\\HabitTracker\\CurDay.txt', 'w') as file:\n",
    "        file.write(f'{str(day_name) + ':' + str(formatted_date)}\\n')\n",
    "        for key in habits_tracked.keys():\n",
    "            file.write(f'{key}:\\n')"
   ]
  },
  {
   "cell_type": "code",
   "execution_count": 8,
   "metadata": {},
   "outputs": [],
   "source": [
    "habits = {'MR':'Morning Routine', 'NR':'Nightly Routine', 'NY':'No YT', 'RE':'Reading'}"
   ]
  },
  {
   "cell_type": "code",
   "execution_count": 7,
   "metadata": {},
   "outputs": [],
   "source": [
    "try:\n",
    "    info_keep_append()\n",
    "except ValueError:\n",
    "    print(\"Jumpstart assumed.\")\n",
    "\n",
    "current_creation(habits)"
   ]
  }
 ],
 "metadata": {
  "kernelspec": {
   "display_name": "Python 3",
   "language": "python",
   "name": "python3"
  },
  "language_info": {
   "codemirror_mode": {
    "name": "ipython",
    "version": 3
   },
   "file_extension": ".py",
   "mimetype": "text/x-python",
   "name": "python",
   "nbconvert_exporter": "python",
   "pygments_lexer": "ipython3",
   "version": "3.12.0"
  }
 },
 "nbformat": 4,
 "nbformat_minor": 2
}
