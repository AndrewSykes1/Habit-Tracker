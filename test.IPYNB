{
 "cells": [
  {
   "cell_type": "code",
   "execution_count": 1,
   "metadata": {},
   "outputs": [],
   "source": [
    "from datetime import datetime"
   ]
  },
  {
   "cell_type": "code",
   "execution_count": null,
   "metadata": {},
   "outputs": [],
   "source": [
    "#Load info\n",
    "#Make so i can append info -- meditation, day\n",
    "#Print out visuals"
   ]
  },
  {
   "cell_type": "code",
   "execution_count": 17,
   "metadata": {},
   "outputs": [],
   "source": [
    "habits_tracked = {'MR':'Morning Routine', 'M':'Meditation', 'J':'Journaling', 'NR':'Nightly Routine', 'R':'Retainer', 'S':'Shower', 'NY':'No YT'}"
   ]
  },
  {
   "cell_type": "code",
   "execution_count": 31,
   "metadata": {},
   "outputs": [],
   "source": [
    "def current_creation(habits_tracked):\n",
    "    # Get current date\n",
    "    current_date = datetime.now()\n",
    "\n",
    "    # Format date as DD/MM/YY\n",
    "    formatted_date = current_date.strftime(\"%d/%m/%y\")\n",
    "    day_name = current_date.strftime(\"%A\")\n",
    "\n",
    "    with open(r'C:\\SZvsWorkspace\\PersonalProjects\\HabitTracker\\CurDay.txt', 'w') as file:\n",
    "        file.write(f'{str(day_name) + ':' + str(formatted_date)}\\n')\n",
    "        for key in habits_tracked.keys():\n",
    "            file.write(f'{habits_tracked[key]}:\\n')"
   ]
  },
  {
   "cell_type": "code",
   "execution_count": 18,
   "metadata": {},
   "outputs": [],
   "source": [
    "def current_download():\n",
    "    with open(r'C:\\SZvsWorkspace\\PersonalProjects\\HabitTracker\\CurDay.txt', 'r') as file:\n",
    "        temp = -1\n",
    "        for row in file:\n",
    "            temp += 1\n",
    "            if row == 1:\n",
    "                "
   ]
  },
  {
   "cell_type": "code",
   "execution_count": 32,
   "metadata": {},
   "outputs": [],
   "source": [
    "current_creation(habits_tracked)"
   ]
  }
 ],
 "metadata": {
  "kernelspec": {
   "display_name": "Python 3",
   "language": "python",
   "name": "python3"
  },
  "language_info": {
   "codemirror_mode": {
    "name": "ipython",
    "version": 3
   },
   "file_extension": ".py",
   "mimetype": "text/x-python",
   "name": "python",
   "nbconvert_exporter": "python",
   "pygments_lexer": "ipython3",
   "version": "3.12.0"
  }
 },
 "nbformat": 4,
 "nbformat_minor": 2
}
